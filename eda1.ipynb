{
 "cells": [
  {
   "attachments": {},
   "cell_type": "markdown",
   "metadata": {},
   "source": [
    "# Explorary Data Analysis 1\n",
    "\n",
    "We will perform EDA on the magnetic field data.\n",
    "\n",
    "The features we might experiment on are:\n",
    "- Raw signals @ Absolute Values\n",
    "- Gradients\n",
    "- Raw signals @ XYZ\n",
    "\n",
    "The methodologies:\n",
    "- DWT\n",
    "- Windowing"
   ]
  },
  {
   "cell_type": "code",
   "execution_count": 11,
   "metadata": {},
   "outputs": [],
   "source": [
    "import os\n",
    "import numpy as np\n",
    "import pandas as pd\n",
    "import matplotlib.pyplot as plt\n",
    "import api as magretraceapi\n",
    "import scipy.signal as signal\n",
    "from dtw import dtw\n",
    "from scipy.spatial.distance import euclidean"
   ]
  },
  {
   "cell_type": "code",
   "execution_count": 12,
   "metadata": {},
   "outputs": [],
   "source": [
    "api = magretraceapi.MagRetraceDataAPI(\"./data\")"
   ]
  },
  {
   "cell_type": "code",
   "execution_count": 13,
   "metadata": {},
   "outputs": [
    {
     "name": "stdout",
     "output_type": "stream",
     "text": [
      "Available template titles:\n",
      "  0 - cb_g_exit_entering_template_2023324_1557\n",
      "  1 - cb_g_exit_entering_template_2023327_1214\n",
      "  2 - cb_g_exit_entering_template_2023328_1631\n",
      "  3 - cb_g_exit_entering_template_45_deg_holding_2023327_1219\n",
      "  4 - cb_g_exit_entering_template_in_pocket_2023327_1215\n",
      "  5 - cb_g_exit_exiting_template_2023327_1216\n",
      "  6 - cb_g_exit_template_1_2023322_1146\n",
      "  7 - cb_g_exit_template_2023322_1344\n",
      "  8 - cb_g_exit_template_2_2023322_1147\n",
      "  9 - cb_g_exit_template_2_2023322_1344\n",
      "  10 - cb_g_exit_template_3_2023322_1148\n",
      "  11 - cb_lg_exit_entering_template_2023327_1221\n",
      "  12 - cb_lg_exit_template_2023323_1225\n",
      "  13 - composite_bldg_lg_exit_template_2023323_1226\n",
      "  14 - su_canteen_entrance_template_2023327_1223\n"
     ]
    }
   ],
   "source": [
    "api.list_template_titles()"
   ]
  },
  {
   "cell_type": "code",
   "execution_count": 14,
   "metadata": {},
   "outputs": [
    {
     "name": "stdout",
     "output_type": "stream",
     "text": [
      "Available traversal titles:\n",
      "  0 - bonham_to_cross_cafe_2023322_1206\n",
      "  1 - bonham_to_hku_campus_2023322_1256\n",
      "  2 - cb_cbc_takecourse_2023321_1715\n",
      "  3 - cb_traversal_g_in_lg_out_2023324_1559\n",
      "  4 - cbc_inner_traversal_2023322_1145\n",
      "  5 - hw_1f_manydoors_2023322_1312\n",
      "  6 - hw_take_lift_4f_1f_2023322_1309\n",
      "  7 - main_bldg_traversal_2023322_1158\n",
      "  8 - sai_ying_pun_mtr_traversal_2023331_1210\n",
      "  9 - univ_street_exita_to_mainlib_2023322\n",
      "  10 - univ_street_reverse_traversal_2023322_1304\n",
      "  11 - univstreet_cb_enter_g_at_80s_2023324_1555\n",
      "  12 - univstreet_cb_g_cross_at_100s_2023328_1630\n",
      "  13 - univstreet_mwt_to_exita_2023324_1433 \n"
     ]
    }
   ],
   "source": [
    "api.list_traversal_titles()"
   ]
  },
  {
   "attachments": {},
   "cell_type": "markdown",
   "metadata": {},
   "source": [
    "## 1. Exploring speciality of the template using DTW"
   ]
  },
  {
   "cell_type": "code",
   "execution_count": 15,
   "metadata": {},
   "outputs": [],
   "source": [
    "from dtw import dtw\n",
    "from scipy.spatial.distance import euclidean\n",
    "\n",
    "def dtw_process(template, sequence):\n",
    "    # Ensure that both arrays are 1-D\n",
    "    template = np.reshape(template, (-1, 1))\n",
    "    sequence = np.reshape(sequence, (-1, 1))\n",
    "\n",
    "    # Define the distance function to use (Euclidean distance)\n",
    "    distance = lambda x, y: euclidean(x, y)\n",
    "\n",
    "    # Compute the DTW distance between the template and the sequence\n",
    "    d, cost_matrix, acc_cost_matrix, path = dtw(template, sequence, dist=distance)\n",
    "\n",
    "    # Extract the matching part of the sequence based on the DTW path\n",
    "    start, end = path[0][1], path[-1][1]\n",
    "    matched_sequence = sequence[start:end+1]\n",
    "\n",
    "    return d, matched_sequence"
   ]
  },
  {
   "cell_type": "code",
   "execution_count": 16,
   "metadata": {},
   "outputs": [],
   "source": [
    "def downsample(signal_time_seq: np.ndarray, signal: np.ndarray, downsample_factor) -> tuple[np.ndarray]:\n",
    "    \"\"\"\n",
    "    Downsample the signal by the given factor.\n",
    "    \"\"\"\n",
    "    # Compute the downsampled signal.\n",
    "    signal_downsampled = signal[::downsample_factor]\n",
    "\n",
    "    # Compute the downsampled time sequence.\n",
    "    signal_time_seq_downsampled = signal_time_seq[::downsample_factor]\n",
    "\n",
    "    return signal_time_seq_downsampled, signal_downsampled"
   ]
  },
  {
   "cell_type": "code",
   "execution_count": 17,
   "metadata": {},
   "outputs": [],
   "source": [
    "import numpy as np\n",
    "from typing import List\n",
    "\n",
    "def sliding_window(sequence: np.ndarray, window_length: int, step: int) -> List[np.ndarray]:\n",
    "    windows = []\n",
    "    for i in range(0, len(sequence) - window_length + 1, step):\n",
    "        window = sequence[i:i+window_length]\n",
    "        windows.append(window)\n",
    "    return windows"
   ]
  },
  {
   "cell_type": "code",
   "execution_count": 18,
   "metadata": {},
   "outputs": [],
   "source": [
    "import scipy\n",
    "\n",
    "def gaussian_filter(signal: np.ndarray, sigma: float):\n",
    "    return scipy.ndimage.gaussian_filter(signal, sigma=sigma)"
   ]
  },
  {
   "cell_type": "code",
   "execution_count": 19,
   "metadata": {},
   "outputs": [
    {
     "name": "stdout",
     "output_type": "stream",
     "text": [
      "Available template titles:\n",
      "  0 - cb_g_exit_entering_template_2023324_1557\n",
      "  1 - cb_g_exit_entering_template_2023327_1214\n",
      "  2 - cb_g_exit_entering_template_2023328_1631\n",
      "  3 - cb_g_exit_entering_template_45_deg_holding_2023327_1219\n",
      "  4 - cb_g_exit_entering_template_in_pocket_2023327_1215\n",
      "  5 - cb_g_exit_exiting_template_2023327_1216\n",
      "  6 - cb_g_exit_template_1_2023322_1146\n",
      "  7 - cb_g_exit_template_2023322_1344\n",
      "  8 - cb_g_exit_template_2_2023322_1147\n",
      "  9 - cb_g_exit_template_2_2023322_1344\n",
      "  10 - cb_g_exit_template_3_2023322_1148\n",
      "  11 - cb_lg_exit_entering_template_2023327_1221\n",
      "  12 - cb_lg_exit_template_2023323_1225\n",
      "  13 - composite_bldg_lg_exit_template_2023323_1226\n",
      "  14 - su_canteen_entrance_template_2023327_1223\n",
      "Available traversal titles:\n",
      "  0 - bonham_to_cross_cafe_2023322_1206\n",
      "  1 - bonham_to_hku_campus_2023322_1256\n",
      "  2 - cb_cbc_takecourse_2023321_1715\n",
      "  3 - cb_traversal_g_in_lg_out_2023324_1559\n",
      "  4 - cbc_inner_traversal_2023322_1145\n",
      "  5 - hw_1f_manydoors_2023322_1312\n",
      "  6 - hw_take_lift_4f_1f_2023322_1309\n",
      "  7 - main_bldg_traversal_2023322_1158\n",
      "  8 - sai_ying_pun_mtr_traversal_2023331_1210\n",
      "  9 - univ_street_exita_to_mainlib_2023322\n",
      "  10 - univ_street_reverse_traversal_2023322_1304\n",
      "  11 - univstreet_cb_enter_g_at_80s_2023324_1555\n",
      "  12 - univstreet_cb_g_cross_at_100s_2023328_1630\n",
      "  13 - univstreet_mwt_to_exita_2023324_1433 \n"
     ]
    }
   ],
   "source": [
    "api.list_template_titles()\n",
    "api.list_traversal_titles()"
   ]
  },
  {
   "cell_type": "code",
   "execution_count": 77,
   "metadata": {},
   "outputs": [],
   "source": [
    "from api import MagRetraceData\n",
    "def dtw_matching_distance_abs(template: MagRetraceData,\n",
    "    traversal: MagRetraceData,\n",
    "    downsampling_coefficient=10,\n",
    "    windowing_coefficient=1,\n",
    "    step_coefficient=0.25,\n",
    "    perform_gaussian_filtering=False,\n",
    "    gaussian_filter_sigma=1.0):\n",
    "    # The template at the entrance of CB\n",
    "    tem_timeseq = template.time_seq\n",
    "    tem_absmag = template.mag_abs\n",
    "    tra_timeseq = traversal.time_seq\n",
    "    tra_absmag = traversal.mag_abs\n",
    "    \n",
    "    # Filtering\n",
    "    if perform_gaussian_filtering:\n",
    "        tem_absmag = gaussian_filter(tem_absmag, gaussian_filter_sigma)\n",
    "        tra_absmag = gaussian_filter(tra_absmag, gaussian_filter_sigma)\n",
    "    \n",
    "    # Downsampling\n",
    "    tem_timeseq, tem_absmag = downsample(tem_timeseq, tem_absmag, downsampling_coefficient)\n",
    "    tra_timeseq, tra_absmag = downsample(tra_timeseq, tra_absmag, downsampling_coefficient)\n",
    "\n",
    "    tem_length = tem_absmag.shape[0]\n",
    "    window_length = round(tem_length * windowing_coefficient)\n",
    "    window_step = round(tem_length * step_coefficient)\n",
    "    windows = sliding_window(tra_absmag, window_length, window_step)\n",
    "    ds = []\n",
    "    for window in windows:\n",
    "        d, matched_sequence = dtw_process(tem_absmag, window)\n",
    "        ds.append(d)\n",
    "\n",
    "    time_seq_idx = np.array([idx * window_step for idx in range(len(windows))])\n",
    "    sample_interval = tra_timeseq[1] - tra_timeseq[0]\n",
    "    time_seq = tra_timeseq[time_seq_idx]\n",
    "    #print(f\"Window length: {window_length * sample_interval: .2f} s\")\n",
    "    time_seq = np.array(time_seq)\n",
    "    ds = np.array(ds)\n",
    "    return (time_seq, ds)"
   ]
  },
  {
   "cell_type": "code",
   "execution_count": 55,
   "metadata": {},
   "outputs": [],
   "source": [
    "TEMPLATE = \"cb_g_exit_template_1_2023322_1146\"\n",
    "template = api.get_template_data(TEMPLATE)"
   ]
  },
  {
   "cell_type": "code",
   "execution_count": 65,
   "metadata": {},
   "outputs": [
    {
     "name": "stdout",
     "output_type": "stream",
     "text": [
      "Traversal name: main_bldg_traversal_2023322_1158\n",
      "Window length:  11.45 s\n"
     ]
    },
    {
     "data": {
      "text/plain": [
       "[<matplotlib.lines.Line2D at 0x7f9bf43266b0>]"
      ]
     },
     "execution_count": 65,
     "metadata": {},
     "output_type": "execute_result"
    },
    {
     "data": {
      "image/png": "[encoded data removed]",
      "text/plain": [
       "<Figure size 640x480 with 1 Axes>"
      ]
     },
     "metadata": {},
     "output_type": "display_data"
    }
   ],
   "source": [
    "TRAVERSAL_INDEX = 7\n",
    "print(f\"Traversal name: {api.traversal_list[TRAVERSAL_INDEX]}\")\n",
    "traversal = api.get_traversal_data(TRAVERSAL_INDEX)\n",
    "timeseq, ds = dtw_matching_distance_abs(template, \n",
    "                          traversal, \n",
    "                          downsampling_coefficient=10, \n",
    "                          step_coefficient=0.5,\n",
    "                          perform_gaussian_filtering=True, \n",
    "                          gaussian_filter_sigma=1.0)\n",
    "plt.plot(timeseq, ds)"
   ]
  },
  {
   "cell_type": "code",
   "execution_count": 66,
   "metadata": {},
   "outputs": [],
   "source": [
    "from scipy.signal import find_peaks, peak_prominences\n",
    "\n",
    "def max_peak_prominence(signal, wlen):\n",
    "    peaks, _ = find_peaks(signal)\n",
    "    prominences = peak_prominences(signal, peaks)[0]\n",
    "    max_prominence = max(prominences)\n",
    "    return max_prominence"
   ]
  },
  {
   "cell_type": "code",
   "execution_count": 80,
   "metadata": {},
   "outputs": [
    {
     "name": "stdout",
     "output_type": "stream",
     "text": [
      "[6.46320835e-03 5.78251721e+00 1.15585628e+01 1.73346090e+01\n",
      " 2.31106522e+01 2.88867055e+01 3.46627812e+01 4.04388737e+01\n",
      " 4.62149830e+01 5.19910800e+01 5.77672069e+01 6.35433480e+01\n",
      " 6.93195011e+01 7.50956510e+01 8.08717853e+01 8.66479004e+01\n",
      " 9.24239923e+01 9.82000602e+01 1.03976123e+02 1.09752177e+02\n",
      " 1.15528230e+02 1.21304282e+02 1.27080332e+02 1.32856372e+02\n",
      " 1.38632400e+02 1.44408419e+02 1.50184425e+02 1.55960421e+02\n",
      " 1.61736401e+02 1.67512364e+02 1.73288315e+02 1.79064275e+02\n",
      " 1.84840242e+02 1.90616216e+02 1.96392193e+02 2.02168174e+02\n",
      " 2.07944159e+02 2.13720148e+02 2.19496136e+02 2.25272120e+02\n",
      " 2.31048101e+02 2.36824081e+02 2.42600056e+02 2.48376028e+02\n",
      " 2.54151996e+02 2.59927963e+02 2.65703929e+02 2.71479895e+02\n",
      " 2.77255860e+02 2.83031823e+02 2.88807790e+02 2.94583756e+02\n",
      " 3.00359735e+02 3.06135725e+02 3.11911732e+02 3.17687760e+02\n",
      " 3.23463804e+02 3.29239866e+02 3.35015941e+02 3.40792026e+02\n",
      " 3.46568112e+02 3.52344197e+02 3.58120278e+02 3.63896366e+02\n",
      " 3.69672465e+02 3.75448561e+02 3.81224670e+02 3.87000796e+02\n",
      " 3.92776943e+02 3.98553113e+02 4.04329300e+02 4.10105501e+02]\n",
      "[ 795.56940691 1230.99879829 1116.99922831 1017.07096662 1310.0531637\n",
      " 1140.78012033  530.23140295  976.86833886 1016.75958189 1063.21818311\n",
      " 1330.86287847 1268.81484122 1078.9267662  1611.1666113  1355.59371357\n",
      " 1045.04676139  876.06410041 1210.2967581  1177.5889203  1155.35398378\n",
      " 1362.2211135  1785.70426796 1384.92319101  689.73381542  542.84190564\n",
      " 1085.66469924 1769.35081479 1862.93765376 2157.57832798 1955.15851274\n",
      " 1451.98991897  952.15299169  273.09905867 1241.98122438 1667.46530009\n",
      " 1383.23869659  980.86679732 1221.02820096 1087.51698    1165.01738871\n",
      "  732.30313363  847.63665004  982.52904885  945.83387092  887.71426898\n",
      "  935.44928583  987.55402591  985.10110769  989.65233669  876.43144679\n",
      "  949.21687861 1125.45091702 1633.42272534 1613.6891586   971.39532077\n",
      "  513.31766003  173.90312207  417.26466745  564.60602581  346.17528322\n",
      "  809.87037616  696.95903956  413.15329613 1159.38387637  612.56835564\n",
      "  158.13092798  607.35895387 1800.10010775 1214.36903363 1008.14358227\n",
      " 1229.15380587 1892.65625258]\n",
      "Traversal: bonham_to_cross_cafe_2023322_1206 Max peak prominence: NA\n",
      "[2.47075001e-03 5.77877888e+00 1.15550729e+01 1.73313485e+01\n",
      " 2.31076015e+01 2.88838380e+01 3.46600644e+01 4.04362950e+01\n",
      " 4.62125066e+01 5.19887019e+01 5.77648801e+01 6.35410405e+01\n",
      " 6.93171837e+01 7.50933097e+01 8.08694213e+01 8.66455364e+01\n",
      " 9.24216535e+01 9.81977689e+01 1.03973891e+02 1.09750030e+02\n",
      " 1.15526184e+02 1.21302345e+02 1.27078501e+02 1.32854650e+02\n",
      " 1.38630796e+02 1.44406936e+02 1.50183073e+02 1.55959203e+02\n",
      " 1.61735320e+02 1.67511425e+02 1.73287518e+02 1.79063601e+02\n",
      " 1.84839675e+02 1.90615740e+02 1.96391803e+02 2.02167860e+02\n",
      " 2.07943917e+02]\n",
      "[1251.8847367  1190.85013627 1317.94276607 1671.50922419 1458.5843948\n",
      " 1222.63893549 1017.21627075 1859.79052614 2411.47188489 2436.94829607\n",
      " 2071.34942372 2002.99284774 1781.35066248 1160.30970966  651.6136595\n",
      "  811.64646827 1707.40355041 2534.58959067 2593.09450022 2602.53771844\n",
      " 2184.83928802 1450.13210539 1166.41254886 1365.00927053 1753.01753203\n",
      " 1796.35830385  946.70983999  552.6573202  1180.3229523  1283.21356459\n",
      " 1095.81810708 1166.74385825  952.79530865 1275.87646636 1620.41925462\n",
      " 1385.42331045 1001.9744431 ]\n",
      "Traversal: bonham_to_hku_campus_2023322_1256 Max peak prominence: NA\n",
      "[1.58605416e-02 5.79084229e+00 1.15658302e+01 1.73408188e+01\n",
      " 2.31158008e+01 2.88907845e+01 3.46657713e+01 4.04407661e+01\n",
      " 4.62157633e+01 5.19907693e+01 5.77657770e+01 6.35407888e+01\n",
      " 6.93158040e+01 7.50908212e+01 8.08658362e+01 8.66408503e+01\n",
      " 9.24158605e+01 9.81908703e+01 1.03965889e+02 1.09740927e+02\n",
      " 1.15515986e+02 1.21291065e+02 1.27066157e+02 1.32841251e+02\n",
      " 1.38616348e+02 1.44391444e+02 1.50166530e+02 1.55941602e+02\n",
      " 1.61716677e+02 1.67491767e+02 1.73266870e+02 1.79041983e+02\n",
      " 1.84817114e+02 1.90592255e+02]\n",
      "[ 3902.31482841  3906.44127158  3923.15052373  3933.75433367\n",
      "  3933.49489694  3532.54474632  1478.22274411   700.59690018\n",
      "  2612.03047127  4269.66365617  4256.90251292  4255.34381763\n",
      "  4262.524208    3354.33237104  1519.65204649  1089.9370134\n",
      "   794.18589872   584.34226289   718.77680502  1057.62019186\n",
      "  1603.62965984  2739.10223826  2564.32060533  1116.01975094\n",
      "  1152.8880552    791.29534713  2391.73431533 10257.57332201\n",
      " 16847.59989507 16855.85567831 16861.08045468 16859.51527799\n",
      " 16847.62586714 16838.44562825]\n",
      "Traversal: cb_cbc_takecourse_2023321_1715 Max peak prominence: NA\n",
      "[9.30691650e-03 5.78507350e+00 1.15608581e+01 1.73366743e+01\n",
      " 2.31124691e+01 2.88882748e+01]\n",
      "[1249.45125629 1734.87264358 2572.06963878 1698.46481047  694.0009066\n",
      "  163.81473262]\n",
      "Traversal: cb_traversal_g_in_lg_out_2023324_1559 Max peak prominence: NA\n",
      "[2.36291666e-02 5.79918112e+00 1.15747451e+01 1.73503260e+01\n",
      " 2.31259033e+01 2.89014891e+01 3.46770701e+01 4.04526490e+01\n",
      " 4.62282237e+01 5.20038106e+01 5.77794012e+01 6.35549963e+01\n",
      " 6.93305954e+01 7.51062013e+01 8.08818059e+01 8.66574043e+01\n",
      " 9.24329883e+01 9.82085610e+01 1.03984122e+02 1.09759679e+02\n",
      " 1.15535227e+02 1.21310775e+02 1.27086327e+02 1.32861898e+02\n",
      " 1.38637495e+02 1.44413114e+02 1.50188729e+02 1.55964359e+02]\n",
      "[1835.17647335  929.75043176  479.85289717  447.43350559  832.62139205\n",
      "  829.18362948 1208.12755899 1027.59113946  903.05684202  719.92693184\n",
      " 1618.31384584 2151.95641664 1843.20158267 1631.88099602 1863.74992778\n",
      " 2010.9204086  2058.24146343 2214.69937884 1383.16812864 1100.43934582\n",
      "  436.24730567  701.04098489  781.95172943  486.98697978  367.31513974\n",
      "  350.29341841  229.41580471  790.86246734]\n",
      "Traversal: cbc_inner_traversal_2023322_1145 Max peak prominence: NA\n",
      "[4.53166664e-03 5.78049658e+00 1.15564662e+01 1.73324366e+01\n",
      " 2.31084110e+01 2.88843673e+01 3.46603125e+01 4.04362452e+01\n",
      " 4.62121631e+01 5.19880642e+01 5.77639692e+01 6.35398741e+01\n",
      " 6.93158004e+01 7.50917584e+01 8.08677444e+01]\n",
      "[ 631.06938848  359.08344935  456.80938451  322.91679138  309.70767032\n",
      "  801.14062538 1002.91182723  466.96370125  863.3884038   354.67452619\n",
      "  493.98843003 1134.31301122 1590.59218893 1068.66357681  943.39172992]\n",
      "Traversal: hw_1f_manydoors_2023322_1312 Max peak prominence: NA\n",
      "[4.53166664e-03 5.78049658e+00 1.15564662e+01 1.73324366e+01\n",
      " 2.31084110e+01 2.88843673e+01 3.46603125e+01 4.04362452e+01\n",
      " 4.62121631e+01 5.19880642e+01 5.77639692e+01 6.35398741e+01\n",
      " 6.93158004e+01 7.50917584e+01 8.08677444e+01]\n",
      "[ 631.06938848  359.08344935  456.80938451  322.91679138  309.70767032\n",
      "  801.14062538 1002.91182723  466.96370125  863.3884038   354.67452619\n",
      "  493.98843003 1134.31301122 1590.59218893 1068.66357681  943.39172992]\n",
      "Traversal: hw_take_lift_4f_1f_2023322_1309 Max peak prominence: NA\n",
      "[7.80020829e-03 5.78364458e+00 1.15594838e+01 1.73353201e+01\n",
      " 2.31111601e+01 2.88870137e+01 3.46629038e+01 4.04387966e+01\n",
      " 4.62147078e+01 5.19906318e+01 5.77665796e+01 6.35425407e+01\n",
      " 6.93184998e+01]\n",
      "[ 929.69261517  924.67486056  912.00407321  900.22188867 1310.54475862\n",
      "  628.39641025  610.13907449  577.65617481  642.61984324  954.20121006\n",
      " 1303.87953686 1862.14697203 2052.2417675 ]\n",
      "Traversal: main_bldg_traversal_2023322_1158 Max peak prominence: NA\n",
      "[3.09720833e-02 5.80664954e+00 1.15823291e+01 1.73580109e+01\n",
      " 2.31336869e+01 2.89093548e+01 3.46850185e+01 4.04606687e+01\n",
      " 4.62363104e+01 5.20119412e+01 5.77875597e+01 6.35631629e+01\n",
      " 6.93387493e+01 7.51143278e+01 8.08899071e+01 8.66654878e+01\n",
      " 9.24410870e+01 9.82166801e+01 1.03992278e+02 1.09767867e+02\n",
      " 1.15543447e+02 1.21319020e+02 1.27094591e+02 1.32870176e+02\n",
      " 1.38645755e+02 1.44421337e+02 1.50196914e+02 1.55972504e+02\n",
      " 1.61748111e+02 1.67523734e+02 1.73299358e+02 1.79074980e+02\n",
      " 1.84850597e+02 1.90626208e+02 1.96401810e+02 2.02177405e+02\n",
      " 2.07952989e+02 2.13728567e+02 2.19504141e+02 2.25279714e+02\n",
      " 2.31055282e+02 2.36830847e+02 2.42606406e+02 2.48381967e+02\n",
      " 2.54157526e+02 2.59933082e+02 2.65708642e+02]\n",
      "[4079.17679805 5626.1290432  7907.97730083 6913.28880027 7489.62010011\n",
      " 9253.40336137 9757.46646194 8978.89470793 8989.64219303 7983.96702108\n",
      " 7577.6947971  8400.05577008 8959.10632893 8549.44285482 6911.45629992\n",
      " 6733.14728638 5588.05590988 4262.9287653  4527.98281717 4600.93246824\n",
      " 5136.17739553 6007.30417452 6263.84504485 6296.13713927 5580.70018211\n",
      " 4318.52284611 3765.69642604 3299.37096772 3509.03933184 4131.09628618\n",
      " 4252.29188796 3941.3949209  4372.65747736 5737.67796023 5804.6722516\n",
      " 5089.47321688 4555.37093061 4316.2272489  4451.09330385 4179.05479939\n",
      " 3841.51099901 4189.84661828 4099.77836138 4846.67442207 7142.95934466\n",
      " 7200.08653089 4918.35504977]\n",
      "Traversal: sai_ying_pun_mtr_traversal_2023331_1210 Max peak prominence: NA\n",
      "[1.27900416e-02 5.78835467e+00 1.15639153e+01 1.73394847e+01\n",
      " 2.31150520e+01 2.88906203e+01 3.46661944e+01 4.04417675e+01\n",
      " 4.62173377e+01 5.19929122e+01 5.77684879e+01 6.35440667e+01\n",
      " 6.93196517e+01 7.50952406e+01 8.08708328e+01 8.66464239e+01\n",
      " 9.24220143e+01 9.81976050e+01 1.03973203e+02 1.09748808e+02\n",
      " 1.15524426e+02 1.21300049e+02 1.27075672e+02 1.32851302e+02\n",
      " 1.38626938e+02 1.44402585e+02 1.50178226e+02 1.55953871e+02\n",
      " 1.61729528e+02 1.67505194e+02 1.73280863e+02 1.79056534e+02\n",
      " 1.84832215e+02 1.90607895e+02 1.96383577e+02 2.02159264e+02\n",
      " 2.07934965e+02 2.13710665e+02 2.19486368e+02]\n",
      "[ 708.50514896  605.60550132  719.01228467  503.87965411  511.47748876\n",
      "  312.90109083  184.14437865  311.20526811  748.07663868  771.33281435\n",
      "  526.46960452  213.09941436  597.86515796  510.37966064  365.89394117\n",
      "  394.75037086  564.68259083  572.7753832   206.7603574   704.0756082\n",
      " 1424.13998342 1321.22641275  610.92125932  300.36895596  569.48489177\n",
      "  305.5658364   741.48244218  907.70432814  597.26284944 1197.09066844\n",
      "  848.35773354  440.96854262  511.47326129  854.15341923  234.9439667\n",
      "  328.10847111 1435.19391351 1611.99487843 1591.51884692]\n",
      "Traversal: univ_street_exita_to_mainlib_2023322 Max peak prominence: NA\n"
     ]
    }
   ],
   "source": [
    "for traversalidx in range(len(api.traversal_list)):\n",
    "    traversal = api.get_traversal_data(traversalidx)\n",
    "    try:\n",
    "        timeseq, ds = dtw_matching_distance_abs(template, \n",
    "                            traversal, \n",
    "                            downsampling_coefficient=10, \n",
    "                            step_coefficient=0.5,\n",
    "                            perform_gaussian_filtering=True, \n",
    "                            gaussian_filter_sigma=1.0)\n",
    "        max_prominence = max_peak_prominence(-1 * ds, wlen=1000)\n",
    "        print(f\"Traversal: {api.traversal_list[traversalidx]} Max peak prominence: {max_prominence: .2f}\")\n",
    "    except:\n",
    "        print(f\"Traversal: {api.traversal_list[traversalidx]} Max peak prominence: NA\")\n",
    "        continue\n",
    "    "
   ]
  },
  {
   "attachments": {},
   "cell_type": "markdown",
   "metadata": {},
   "source": [
    "We can hence observe that the value itself is not important - it is the \"amount-of-drop\" that makes a relatively robust feature.\n",
    "\n",
    "We have \"prominence\" in signalprocessing that can do this task for us."
   ]
  }
 ],
 "metadata": {
  "kernelspec": {
   "display_name": "signalprocessing",
   "language": "python",
   "name": "python3"
  },
  "language_info": {
   "codemirror_mode": {
    "name": "ipython",
    "version": 3
   },
   "file_extension": ".py",
   "mimetype": "text/x-python",
   "name": "python",
   "nbconvert_exporter": "python",
   "pygments_lexer": "ipython3",
   "version": "3.10.9"
  },
  "orig_nbformat": 4,
  "vscode": {
   "interpreter": {
    "hash": "428b2b756aebd54595ed83f9b3aa1ec96dfb6c03031fc20c00780263c17d0a72"
   }
  }
 },
 "nbformat": 4,
 "nbformat_minor": 2
}
