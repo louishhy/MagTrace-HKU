{
 "cells": [
  {
   "attachments": {},
   "cell_type": "markdown",
   "metadata": {},
   "source": [
    "# Explorary Data Analysis 1\n",
    "\n",
    "We will perform EDA on the magnetic field data.\n",
    "\n",
    "The features we might experiment on are:\n",
    "- Raw signals @ Absolute Values\n",
    "- Gradients\n",
    "- Raw signals @ XYZ\n",
    "\n",
    "The methodologies:\n",
    "- DWT\n",
    "- Windowing"
   ]
  },
  {
   "cell_type": "code",
   "execution_count": 1,
   "metadata": {},
   "outputs": [],
   "source": [
    "import os\n",
    "import numpy as np\n",
    "import pandas as pd\n",
    "import matplotlib.pyplot as plt\n",
    "import api as magretraceapi\n",
    "import scipy.signal as signal\n",
    "from dtw import dtw\n",
    "from scipy.spatial.distance import euclidean"
   ]
  },
  {
   "cell_type": "code",
   "execution_count": 2,
   "metadata": {},
   "outputs": [],
   "source": [
    "api = magretraceapi.MagRetraceDataAPI(\"./data\")"
   ]
  },
  {
   "cell_type": "code",
   "execution_count": 3,
   "metadata": {},
   "outputs": [
    {
     "name": "stdout",
     "output_type": "stream",
     "text": [
      "Available template titles:\n",
      "  0 - cb_g_exit_entering_template_2023324_1557\n",
      "  1 - cb_g_exit_entering_template_2023327_1214\n",
      "  2 - cb_g_exit_entering_template_2023328_1631\n",
      "  3 - cb_g_exit_entering_template_45_deg_holding_2023327_1219\n",
      "  4 - cb_g_exit_entering_template_in_pocket_2023327_1215\n",
      "  5 - cb_g_exit_exiting_template_2023327_1216\n",
      "  6 - cb_g_exit_template_1_2023322_1146\n",
      "  7 - cb_g_exit_template_2023322_1344\n",
      "  8 - cb_g_exit_template_2_2023322_1147\n",
      "  9 - cb_g_exit_template_2_2023322_1344\n",
      "  10 - cb_g_exit_template_3_2023322_1148\n",
      "  11 - cb_g_template_short_2023331_1941\n",
      "  12 - cb_lg_exit_entering_template_2023327_1221\n",
      "  13 - cb_lg_exit_template_2023323_1225\n",
      "  14 - composite_bldg_lg_exit_template_2023323_1226\n",
      "  15 - su_canteen_entrance_template_2023327_1223\n"
     ]
    }
   ],
   "source": [
    "api.list_template_titles()"
   ]
  },
  {
   "cell_type": "code",
   "execution_count": 4,
   "metadata": {},
   "outputs": [
    {
     "name": "stdout",
     "output_type": "stream",
     "text": [
      "Available traversal titles:\n",
      "  0 - aexit_to_hw_traversal_maglocked_2023331_2015\n",
      "  1 - bonham_to_cross_cafe_2023322_1206\n",
      "  2 - bonham_to_hku_campus_2023322_1256\n",
      "  3 - cb_1f_traversal_maglocked_2023331_1952\n",
      "  4 - cb_2f_traversal_maglocked_2023331_1954\n",
      "  5 - cb_3f_traversal_maglocked_2023331_1957\n",
      "  6 - cb_4f_traversal_maglocked_2023331_2003\n",
      "  7 - cb_5f_traversal_maglocked_2023331_2005\n",
      "  8 - cb_cbc_takecourse_2023321_1715\n",
      "  9 - cb_elevator_static_maglocked_2023331_2008\n",
      "  10 - cb_g_traversal_maglocked_2023331_1945\n",
      "  11 - cb_lg_traversal_maglocked_2023331_1949\n",
      "  12 - cb_traversal_g_in_lg_out_2023324_1559\n",
      "  13 - cbc_inner_traversal_2023322_1145\n",
      "  14 - composite_bldg_traversal_maglocked_2023331_2011\n",
      "  15 - cpd_garden_traversal1_maglocked_2023331_1937\n",
      "  16 - cpd_garden_traversal2_maglocked_2023331_1940\n",
      "  17 - hw_1f_manydoors_2023322_1312\n",
      "  18 - hw_take_lift_4f_1f_2023322_1309\n",
      "  19 - main_bldg_traversal_2023322_1158\n",
      "  20 - sai_ying_pun_mtr_traversal_2023331_1210\n",
      "  21 - univ_street_exita_to_mainlib_2023322\n",
      "  22 - univ_street_reverse_traversal_2023322_1304\n",
      "  23 - univstreet_cb_enter_g_at_80s_2023324_1555\n",
      "  24 - univstreet_cb_g_cross_at_100s_2023328_1630\n",
      "  25 - univstreet_mwt_to_exita_2023324_1433\n"
     ]
    }
   ],
   "source": [
    "api.list_traversal_titles()"
   ]
  },
  {
   "attachments": {},
   "cell_type": "markdown",
   "metadata": {},
   "source": [
    "## 1. Exploring speciality of the template using DTW"
   ]
  },
  {
   "cell_type": "code",
   "execution_count": 5,
   "metadata": {},
   "outputs": [],
   "source": [
    "from dtw import dtw\n",
    "from scipy.spatial.distance import euclidean\n",
    "\n",
    "def dtw_process(template, sequence):\n",
    "    # Ensure that both arrays are 1-D\n",
    "    template = np.reshape(template, (-1, 1))\n",
    "    sequence = np.reshape(sequence, (-1, 1))\n",
    "\n",
    "    # Define the distance function to use (Euclidean distance)\n",
    "    distance = lambda x, y: euclidean(x, y)\n",
    "\n",
    "    # Compute the DTW distance between the template and the sequence\n",
    "    d, cost_matrix, acc_cost_matrix, path = dtw(template, sequence, dist=distance)\n",
    "\n",
    "    # Extract the matching part of the sequence based on the DTW path\n",
    "    start, end = path[0][1], path[-1][1]\n",
    "    matched_sequence = sequence[start:end+1]\n",
    "\n",
    "    return d, matched_sequence"
   ]
  },
  {
   "cell_type": "code",
   "execution_count": 6,
   "metadata": {},
   "outputs": [],
   "source": [
    "def downsample(signal_time_seq: np.ndarray, signal: np.ndarray, downsample_factor) -> tuple[np.ndarray]:\n",
    "    \"\"\"\n",
    "    Downsample the signal by the given factor.\n",
    "    \"\"\"\n",
    "    # Compute the downsampled signal.\n",
    "    signal_downsampled = signal[::downsample_factor]\n",
    "\n",
    "    # Compute the downsampled time sequence.\n",
    "    signal_time_seq_downsampled = signal_time_seq[::downsample_factor]\n",
    "\n",
    "    return signal_time_seq_downsampled, signal_downsampled"
   ]
  },
  {
   "cell_type": "code",
   "execution_count": 7,
   "metadata": {},
   "outputs": [],
   "source": [
    "import numpy as np\n",
    "\n",
    "def sliding_window(sequence: np.ndarray, window_length: int, step: int) -> list[np.ndarray]:\n",
    "    windows = []\n",
    "    for i in range(0, len(sequence) - window_length + 1, step):\n",
    "        window = sequence[i:i+window_length]\n",
    "        windows.append(window)\n",
    "    return windows"
   ]
  },
  {
   "cell_type": "code",
   "execution_count": 8,
   "metadata": {},
   "outputs": [],
   "source": [
    "import scipy\n",
    "\n",
    "def gaussian_filter(signal: np.ndarray, sigma: float):\n",
    "    return scipy.ndimage.gaussian_filter(signal, sigma=sigma)"
   ]
  },
  {
   "cell_type": "code",
   "execution_count": 9,
   "metadata": {},
   "outputs": [
    {
     "name": "stdout",
     "output_type": "stream",
     "text": [
      "Available template titles:\n",
      "  0 - cb_g_exit_entering_template_2023324_1557\n",
      "  1 - cb_g_exit_entering_template_2023327_1214\n",
      "  2 - cb_g_exit_entering_template_2023328_1631\n",
      "  3 - cb_g_exit_entering_template_45_deg_holding_2023327_1219\n",
      "  4 - cb_g_exit_entering_template_in_pocket_2023327_1215\n",
      "  5 - cb_g_exit_exiting_template_2023327_1216\n",
      "  6 - cb_g_exit_template_1_2023322_1146\n",
      "  7 - cb_g_exit_template_2023322_1344\n",
      "  8 - cb_g_exit_template_2_2023322_1147\n",
      "  9 - cb_g_exit_template_2_2023322_1344\n",
      "  10 - cb_g_exit_template_3_2023322_1148\n",
      "  11 - cb_g_template_short_2023331_1941\n",
      "  12 - cb_lg_exit_entering_template_2023327_1221\n",
      "  13 - cb_lg_exit_template_2023323_1225\n",
      "  14 - composite_bldg_lg_exit_template_2023323_1226\n",
      "  15 - su_canteen_entrance_template_2023327_1223\n",
      "Available traversal titles:\n",
      "  0 - aexit_to_hw_traversal_maglocked_2023331_2015\n",
      "  1 - bonham_to_cross_cafe_2023322_1206\n",
      "  2 - bonham_to_hku_campus_2023322_1256\n",
      "  3 - cb_1f_traversal_maglocked_2023331_1952\n",
      "  4 - cb_2f_traversal_maglocked_2023331_1954\n",
      "  5 - cb_3f_traversal_maglocked_2023331_1957\n",
      "  6 - cb_4f_traversal_maglocked_2023331_2003\n",
      "  7 - cb_5f_traversal_maglocked_2023331_2005\n",
      "  8 - cb_cbc_takecourse_2023321_1715\n",
      "  9 - cb_elevator_static_maglocked_2023331_2008\n",
      "  10 - cb_g_traversal_maglocked_2023331_1945\n",
      "  11 - cb_lg_traversal_maglocked_2023331_1949\n",
      "  12 - cb_traversal_g_in_lg_out_2023324_1559\n",
      "  13 - cbc_inner_traversal_2023322_1145\n",
      "  14 - composite_bldg_traversal_maglocked_2023331_2011\n",
      "  15 - cpd_garden_traversal1_maglocked_2023331_1937\n",
      "  16 - cpd_garden_traversal2_maglocked_2023331_1940\n",
      "  17 - hw_1f_manydoors_2023322_1312\n",
      "  18 - hw_take_lift_4f_1f_2023322_1309\n",
      "  19 - main_bldg_traversal_2023322_1158\n",
      "  20 - sai_ying_pun_mtr_traversal_2023331_1210\n",
      "  21 - univ_street_exita_to_mainlib_2023322\n",
      "  22 - univ_street_reverse_traversal_2023322_1304\n",
      "  23 - univstreet_cb_enter_g_at_80s_2023324_1555\n",
      "  24 - univstreet_cb_g_cross_at_100s_2023328_1630\n",
      "  25 - univstreet_mwt_to_exita_2023324_1433\n"
     ]
    }
   ],
   "source": [
    "api.list_template_titles()\n",
    "api.list_traversal_titles()"
   ]
  },
  {
   "cell_type": "code",
   "execution_count": 10,
   "metadata": {},
   "outputs": [],
   "source": [
    "from api import MagRetraceData\n",
    "def dtw_matching_distance_abs(template: MagRetraceData,\n",
    "    traversal: MagRetraceData,\n",
    "    downsampling_coefficient=10,\n",
    "    windowing_coefficient=1,\n",
    "    step_coefficient=0.25,\n",
    "    perform_gaussian_filtering=False,\n",
    "    gaussian_filter_sigma=1.0):\n",
    "    # The template at the entrance of CB\n",
    "    tem_timeseq = template.time_seq\n",
    "    tem_absmag = template.mag_abs\n",
    "    tra_timeseq = traversal.time_seq\n",
    "    tra_absmag = traversal.mag_abs\n",
    "    \n",
    "    # Filtering\n",
    "    if perform_gaussian_filtering:\n",
    "        tem_absmag = gaussian_filter(tem_absmag, gaussian_filter_sigma)\n",
    "        tra_absmag = gaussian_filter(tra_absmag, gaussian_filter_sigma)\n",
    "    \n",
    "    # Downsampling\n",
    "    tem_timeseq, tem_absmag = downsample(tem_timeseq, tem_absmag, downsampling_coefficient)\n",
    "    tra_timeseq, tra_absmag = downsample(tra_timeseq, tra_absmag, downsampling_coefficient)\n",
    "\n",
    "    tem_length = tem_absmag.shape[0]\n",
    "    window_length = round(tem_length * windowing_coefficient)\n",
    "    window_step = round(tem_length * step_coefficient)\n",
    "    windows = sliding_window(tra_absmag, window_length, window_step)\n",
    "    ds = []\n",
    "    for window in windows:\n",
    "        d, matched_sequence = dtw_process(tem_absmag, window)\n",
    "        ds.append(d)\n",
    "\n",
    "    time_seq_idx = np.array([idx * window_step for idx in range(len(windows))])\n",
    "    sample_interval = tra_timeseq[1] - tra_timeseq[0]\n",
    "    time_seq = tra_timeseq[time_seq_idx]\n",
    "    #print(f\"Window length: {window_length * sample_interval: .2f} s\")\n",
    "    time_seq = np.array(time_seq)\n",
    "    ds = np.array(ds)\n",
    "    return (time_seq, ds)"
   ]
  },
  {
   "cell_type": "code",
   "execution_count": 11,
   "metadata": {},
   "outputs": [],
   "source": [
    "TEMPLATE = \"cb_g_exit_template_1_2023322_1146\"\n",
    "template = api.get_template_data(TEMPLATE)"
   ]
  },
  {
   "cell_type": "code",
   "execution_count": 12,
   "metadata": {},
   "outputs": [
    {
     "name": "stdout",
     "output_type": "stream",
     "text": [
      "Available traversal titles:\n",
      "  0 - aexit_to_hw_traversal_maglocked_2023331_2015\n",
      "  1 - bonham_to_cross_cafe_2023322_1206\n",
      "  2 - bonham_to_hku_campus_2023322_1256\n",
      "  3 - cb_1f_traversal_maglocked_2023331_1952\n",
      "  4 - cb_2f_traversal_maglocked_2023331_1954\n",
      "  5 - cb_3f_traversal_maglocked_2023331_1957\n",
      "  6 - cb_4f_traversal_maglocked_2023331_2003\n",
      "  7 - cb_5f_traversal_maglocked_2023331_2005\n",
      "  8 - cb_cbc_takecourse_2023321_1715\n",
      "  9 - cb_elevator_static_maglocked_2023331_2008\n",
      "  10 - cb_g_traversal_maglocked_2023331_1945\n",
      "  11 - cb_lg_traversal_maglocked_2023331_1949\n",
      "  12 - cb_traversal_g_in_lg_out_2023324_1559\n",
      "  13 - cbc_inner_traversal_2023322_1145\n",
      "  14 - composite_bldg_traversal_maglocked_2023331_2011\n",
      "  15 - cpd_garden_traversal1_maglocked_2023331_1937\n",
      "  16 - cpd_garden_traversal2_maglocked_2023331_1940\n",
      "  17 - hw_1f_manydoors_2023322_1312\n",
      "  18 - hw_take_lift_4f_1f_2023322_1309\n",
      "  19 - main_bldg_traversal_2023322_1158\n",
      "  20 - sai_ying_pun_mtr_traversal_2023331_1210\n",
      "  21 - univ_street_exita_to_mainlib_2023322\n",
      "  22 - univ_street_reverse_traversal_2023322_1304\n",
      "  23 - univstreet_cb_enter_g_at_80s_2023324_1555\n",
      "  24 - univstreet_cb_g_cross_at_100s_2023328_1630\n",
      "  25 - univstreet_mwt_to_exita_2023324_1433\n"
     ]
    }
   ],
   "source": [
    "api.list_traversal_titles()"
   ]
  },
  {
   "cell_type": "code",
   "execution_count": 17,
   "metadata": {},
   "outputs": [
    {
     "name": "stdout",
     "output_type": "stream",
     "text": [
      "Traversal name: cb_g_traversal_maglocked_2023331_1945\n"
     ]
    },
    {
     "data": {
      "text/plain": [
       "[<matplotlib.lines.Line2D at 0x22a0cd9df60>]"
      ]
     },
     "execution_count": 17,
     "metadata": {},
     "output_type": "execute_result"
    },
    {
     "data": {
      "image/png": "[encoded data removed]",
      "text/plain": [
       "<Figure size 640x480 with 1 Axes>"
      ]
     },
     "metadata": {},
     "output_type": "display_data"
    }
   ],
   "source": [
    "TRAVERSAL_INDEX = 10\n",
    "print(f\"Traversal name: {api.traversal_list[TRAVERSAL_INDEX]}\")\n",
    "traversal = api.get_traversal_data(TRAVERSAL_INDEX)\n",
    "timeseq, ds = dtw_matching_distance_abs(template, \n",
    "                          traversal, \n",
    "                          downsampling_coefficient=10, \n",
    "                          step_coefficient=0.5,\n",
    "                          perform_gaussian_filtering=True, \n",
    "                          gaussian_filter_sigma=1.0)\n",
    "plt.plot(timeseq, ds)"
   ]
  },
  {
   "cell_type": "code",
   "execution_count": 14,
   "metadata": {},
   "outputs": [],
   "source": [
    "from scipy.signal import find_peaks, peak_prominences\n",
    "\n",
    "def max_peak_prominence(signal, wlen):\n",
    "    peaks, _ = find_peaks(signal)\n",
    "    prominences = peak_prominences(signal, peaks)[0]\n",
    "    max_prominence = max(prominences)\n",
    "    return max_prominence"
   ]
  },
  {
   "cell_type": "code",
   "execution_count": 15,
   "metadata": {},
   "outputs": [],
   "source": [
    "import math\n",
    "\n",
    "def calculate_direction(magdata: MagRetraceData):\n",
    "    mag_x = magdata.mag_x\n",
    "    mag_y = magdata.mag_y\n",
    "    mag_z = magdata.mag_z\n",
    "    angle = np.arctan2(mag_y, mag_x)\n",
    "    return angle"
   ]
  },
  {
   "cell_type": "code",
   "execution_count": 39,
   "metadata": {},
   "outputs": [
    {
     "name": "stdout",
     "output_type": "stream",
     "text": [
      "Available template titles:\n",
      "  0 - cb_g_exit_entering_template_2023324_1557\n",
      "  1 - cb_g_exit_entering_template_2023327_1214\n",
      "  2 - cb_g_exit_entering_template_2023328_1631\n",
      "  3 - cb_g_exit_entering_template_45_deg_holding_2023327_1219\n",
      "  4 - cb_g_exit_entering_template_in_pocket_2023327_1215\n",
      "  5 - cb_g_exit_exiting_template_2023327_1216\n",
      "  6 - cb_g_exit_template_1_2023322_1146\n",
      "  7 - cb_g_exit_template_2023322_1344\n",
      "  8 - cb_g_exit_template_2_2023322_1147\n",
      "  9 - cb_g_exit_template_2_2023322_1344\n",
      "  10 - cb_g_exit_template_3_2023322_1148\n",
      "  11 - cb_g_template_short_2023331_1941\n",
      "  12 - cb_lg_exit_entering_template_2023327_1221\n",
      "  13 - cb_lg_exit_template_2023323_1225\n",
      "  14 - composite_bldg_lg_exit_template_2023323_1226\n",
      "  15 - su_canteen_entrance_template_2023327_1223\n"
     ]
    }
   ],
   "source": [
    "api.list_template_titles()"
   ]
  },
  {
   "cell_type": "code",
   "execution_count": 24,
   "metadata": {},
   "outputs": [
    {
     "name": "stdout",
     "output_type": "stream",
     "text": [
      "Available traversal titles:\n",
      "  0 - aexit_to_hw_traversal_maglocked_2023331_2015\n",
      "  1 - bonham_to_cross_cafe_2023322_1206\n",
      "  2 - bonham_to_hku_campus_2023322_1256\n",
      "  3 - cb_1f_traversal_maglocked_2023331_1952\n",
      "  4 - cb_2f_traversal_maglocked_2023331_1954\n",
      "  5 - cb_3f_traversal_maglocked_2023331_1957\n",
      "  6 - cb_4f_traversal_maglocked_2023331_2003\n",
      "  7 - cb_5f_traversal_maglocked_2023331_2005\n",
      "  8 - cb_cbc_takecourse_2023321_1715\n",
      "  9 - cb_elevator_static_maglocked_2023331_2008\n",
      "  10 - cb_g_traversal_maglocked_2023331_1945\n",
      "  11 - cb_lg_traversal_maglocked_2023331_1949\n",
      "  12 - cb_traversal_g_in_lg_out_2023324_1559\n",
      "  13 - cbc_inner_traversal_2023322_1145\n",
      "  14 - composite_bldg_traversal_maglocked_2023331_2011\n",
      "  15 - cpd_garden_traversal1_maglocked_2023331_1937\n",
      "  16 - cpd_garden_traversal2_maglocked_2023331_1940\n",
      "  17 - hw_1f_manydoors_2023322_1312\n",
      "  18 - hw_take_lift_4f_1f_2023322_1309\n",
      "  19 - main_bldg_traversal_2023322_1158\n",
      "  20 - sai_ying_pun_mtr_traversal_2023331_1210\n",
      "  21 - univ_street_exita_to_mainlib_2023322\n",
      "  22 - univ_street_reverse_traversal_2023322_1304\n",
      "  23 - univstreet_cb_enter_g_at_80s_2023324_1555\n",
      "  24 - univstreet_cb_g_cross_at_100s_2023328_1630\n",
      "  25 - univstreet_mwt_to_exita_2023324_1433\n"
     ]
    }
   ],
   "source": [
    "api.list_traversal_titles()"
   ]
  },
  {
   "cell_type": "code",
   "execution_count": 41,
   "metadata": {},
   "outputs": [
    {
     "data": {
      "text/plain": [
       "[<matplotlib.lines.Line2D at 0x22a10171150>]"
      ]
     },
     "execution_count": 41,
     "metadata": {},
     "output_type": "execute_result"
    },
    {
     "data": {
      "image/png": "[encoded data removed]",
      "text/plain": [
       "<Figure size 640x480 with 1 Axes>"
      ]
     },
     "metadata": {},
     "output_type": "display_data"
    }
   ],
   "source": [
    "from tqdm import tqdm\n",
    "\n",
    "template = api.get_template_data(\"cb_g_exit_entering_template_2023324_1557\")\n",
    "traversal = api.get_traversal_data(\"cb_g_traversal_maglocked_2023331_1945\")\n",
    "timeseq, ds = dtw_matching_distance_abs(template, \n",
    "                          traversal, \n",
    "                          downsampling_coefficient=10, \n",
    "                          step_coefficient=0.5,\n",
    "                          perform_gaussian_filtering=True, \n",
    "                          gaussian_filter_sigma=1.0)\n",
    "plt.plot(timeseq, ds)"
   ]
  },
  {
   "attachments": {},
   "cell_type": "markdown",
   "metadata": {},
   "source": [
    "We can hence observe that the value itself is not important - it is the \"amount-of-drop\" that makes a relatively robust feature.\n",
    "\n",
    "We have \"prominence\" in signalprocessing that can do this task for us."
   ]
  }
 ],
 "metadata": {
  "kernelspec": {
   "display_name": "signalprocessing",
   "language": "python",
   "name": "python3"
  },
  "language_info": {
   "codemirror_mode": {
    "name": "ipython",
    "version": 3
   },
   "file_extension": ".py",
   "mimetype": "text/x-python",
   "name": "python",
   "nbconvert_exporter": "python",
   "pygments_lexer": "ipython3",
   "version": "3.10.9"
  },
  "orig_nbformat": 4,
  "vscode": {
   "interpreter": {
    "hash": "3a0a9c38ceee62b2de2013971c35105b811e0047b18e6ccab8b7750631f3ca58"
   }
  }
 },
 "nbformat": 4,
 "nbformat_minor": 2
}
