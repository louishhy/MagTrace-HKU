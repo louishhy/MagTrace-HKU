{
 "cells": [
  {
   "attachments": {},
   "cell_type": "markdown",
   "metadata": {},
   "source": [
    "# Explorary Data Analysis 1\n",
    "\n",
    "We will perform EDA on the magnetic field data.\n",
    "\n",
    "The features we might experiment on are:\n",
    "- Raw signals @ Absolute Values\n",
    "- Gradients\n",
    "- Raw signals @ XYZ\n",
    "\n",
    "The methodologies:\n",
    "- DWT\n",
    "- Windowing"
   ]
  },
  {
   "attachments": {},
   "cell_type": "markdown",
   "metadata": {},
   "source": [
    "TraviNavi\n",
    "PeerNavi"
   ]
  },
  {
   "cell_type": "code",
   "execution_count": 1,
   "metadata": {},
   "outputs": [],
   "source": [
    "import os\n",
    "import numpy as np\n",
    "import pandas as pd\n",
    "import matplotlib.pyplot as plt\n",
    "import api as magretraceapi\n",
    "import scipy.signal as signal\n",
    "from dtw import dtw\n",
    "from scipy.spatial.distance import euclidean"
   ]
  },
  {
   "cell_type": "code",
   "execution_count": 2,
   "metadata": {},
   "outputs": [],
   "source": [
    "api = magretraceapi.MagRetraceDataAPI(\"./data\")"
   ]
  },
  {
   "cell_type": "code",
   "execution_count": 3,
   "metadata": {},
   "outputs": [
    {
     "name": "stdout",
     "output_type": "stream",
     "text": [
      "Available template titles:\n",
      "  0 - cb_g_exit_template_1_2023322_1146\n",
      "  1 - cb_g_exit_template_2023322_1344\n",
      "  2 - cb_g_exit_template_2_2023322_1147\n",
      "  3 - cb_g_exit_template_2_2023322_1344\n",
      "  4 - cb_g_exit_template_3_2023322_1148\n",
      "  5 - cb_lg_exit_template_2023323_1225\n",
      "  6 - composite_bldg_lg_exit_template_2023323_1226\n",
      "\n",
      "Available traversal titles:\n",
      "  0 - bonham_to_cross_cafe_2023322_1206\n",
      "  1 - bonham_to_hku_campus_2023322_1256\n",
      "  2 - cb_cbc_takecourse_2023321_1715\n",
      "  3 - cbc_inner_traversal_2023322_1145\n",
      "  4 - hw_1f_manydoors_2023322_1312\n",
      "  5 - hw_take_lift_4f_1f_2023322_1309\n",
      "  6 - main_bldg_traversal_2023322_1158\n",
      "  7 - univ_street_exita_to_mainlib_2023322\n",
      "  8 - univ_street_reverse_traversal_2023322_1304\n",
      "  9 - univstreet_cb_enter_g_at_80s_2023324_1555\n"
     ]
    }
   ],
   "source": [
    "api.list_template_titles()\n",
    "print()\n",
    "api.list_traversal_titles()"
   ]
  },
  {
   "attachments": {},
   "cell_type": "markdown",
   "metadata": {},
   "source": [
    "## 1. Exploring speciality of the template using DTW"
   ]
  },
  {
   "cell_type": "code",
   "execution_count": 4,
   "metadata": {},
   "outputs": [],
   "source": [
    "from dtw import dtw\n",
    "from scipy.spatial.distance import euclidean\n",
    "\n",
    "def dtw_process(template, sequence):\n",
    "    # Ensure that both arrays are 1-D\n",
    "    template = np.reshape(template, (-1, 1))\n",
    "    sequence = np.reshape(sequence, (-1, 1))\n",
    "\n",
    "    # Define the distance function to use (Euclidean distance)\n",
    "    distance = lambda x, y: euclidean(x, y)\n",
    "\n",
    "    # Compute the DTW distance between the template and the sequence\n",
    "    d, cost_matrix, acc_cost_matrix, path = dtw(template, sequence, dist=distance)\n",
    "\n",
    "    # Extract the matching part of the sequence based on the DTW path\n",
    "    start, end = path[0][1], path[-1][1]\n",
    "    matched_sequence = sequence[start:end+1]\n",
    "\n",
    "    return d, matched_sequence"
   ]
  },
  {
   "cell_type": "code",
   "execution_count": 5,
   "metadata": {},
   "outputs": [],
   "source": [
    "def downsample(signal_time_seq: np.ndarray, signal: np.ndarray, downsample_factor) -> tuple[np.ndarray]:\n",
    "    \"\"\"\n",
    "    Downsample the signal by the given factor.\n",
    "    \"\"\"\n",
    "    # Compute the downsampled signal.\n",
    "    signal_downsampled = signal[::downsample_factor]\n",
    "\n",
    "    # Compute the downsampled time sequence.\n",
    "    signal_time_seq_downsampled = signal_time_seq[::downsample_factor]\n",
    "\n",
    "    return signal_time_seq_downsampled, signal_downsampled"
   ]
  },
  {
   "cell_type": "code",
   "execution_count": 6,
   "metadata": {},
   "outputs": [],
   "source": [
    "import numpy as np\n",
    "from typing import List\n",
    "\n",
    "def sliding_window(sequence: np.ndarray, window_length: int, step: int) -> List[np.ndarray]:\n",
    "    windows = []\n",
    "    for i in range(0, len(sequence) - window_length + 1, step):\n",
    "        window = sequence[i:i+window_length]\n",
    "        windows.append(window)\n",
    "    return windows"
   ]
  },
  {
   "cell_type": "code",
   "execution_count": 7,
   "metadata": {},
   "outputs": [],
   "source": [
    "import scipy\n",
    "\n",
    "def gaussian_filter(signal: np.ndarray, sigma: float):\n",
    "    return scipy.ndimage.gaussian_filter(signal, sigma=sigma)"
   ]
  },
  {
   "cell_type": "code",
   "execution_count": 8,
   "metadata": {},
   "outputs": [
    {
     "name": "stdout",
     "output_type": "stream",
     "text": [
      "Available template titles:\n",
      "  0 - cb_g_exit_template_1_2023322_1146\n",
      "  1 - cb_g_exit_template_2023322_1344\n",
      "  2 - cb_g_exit_template_2_2023322_1147\n",
      "  3 - cb_g_exit_template_2_2023322_1344\n",
      "  4 - cb_g_exit_template_3_2023322_1148\n",
      "  5 - cb_lg_exit_template_2023323_1225\n",
      "  6 - composite_bldg_lg_exit_template_2023323_1226\n",
      "Available traversal titles:\n",
      "  0 - bonham_to_cross_cafe_2023322_1206\n",
      "  1 - bonham_to_hku_campus_2023322_1256\n",
      "  2 - cb_cbc_takecourse_2023321_1715\n",
      "  3 - cbc_inner_traversal_2023322_1145\n",
      "  4 - hw_1f_manydoors_2023322_1312\n",
      "  5 - hw_take_lift_4f_1f_2023322_1309\n",
      "  6 - main_bldg_traversal_2023322_1158\n",
      "  7 - univ_street_exita_to_mainlib_2023322\n",
      "  8 - univ_street_reverse_traversal_2023322_1304\n",
      "  9 - univstreet_cb_enter_g_at_80s_2023324_1555\n"
     ]
    }
   ],
   "source": [
    "api.list_template_titles()\n",
    "api.list_traversal_titles()"
   ]
  },
  {
   "cell_type": "code",
   "execution_count": 40,
   "metadata": {},
   "outputs": [],
   "source": [
    "# The template at the entrance of CB\n",
    "tem = api.get_template_data(0)\n",
    "tem_timeseq = tem.time_seq\n",
    "tem_absmag = tem.mag_abs\n",
    "tem_timeseq, tem_absmag = downsample(tem_timeseq, tem_absmag, 10)\n",
    "tra = api.get_traversal_data(9)\n",
    "tra_timeseq = tra.time_seq\n",
    "tra_absmag = tra.mag_abs\n",
    "tra_timeseq, tra_absmag = downsample(tra_timeseq, tra_absmag, 10)\n",
    "\n",
    "tem_length = tem_absmag.shape[0]\n",
    "window_length = round(tem_length)\n",
    "window_step = tem_length // 2\n",
    "windows = sliding_window(tra_absmag, window_length, window_step)\n",
    "ds1 = []\n",
    "for window in windows:\n",
    "    d, matched_sequence = dtw_process(tem_absmag, window)\n",
    "    ds1.append(d)\n"
   ]
  },
  {
   "cell_type": "code",
   "execution_count": 41,
   "metadata": {},
   "outputs": [
    {
     "data": {
      "text/plain": [
       "array([4.16816655e-03, 5.68036204e+00, 1.13565767e+01, 1.70327887e+01,\n",
       "       2.27090120e+01, 2.83852375e+01, 3.40614763e+01, 3.97377335e+01,\n",
       "       4.54139984e+01, 5.10902782e+01, 5.67665685e+01, 6.24428535e+01,\n",
       "       6.81191468e+01, 7.37954393e+01, 7.94717302e+01, 8.51480201e+01,\n",
       "       9.08243120e+01, 9.65006005e+01])"
      ]
     },
     "execution_count": 41,
     "metadata": {},
     "output_type": "execute_result"
    }
   ],
   "source": [
    "time_seq_idx = np.array([idx * window_step for idx in range(len(windows))])\n",
    "sample_interval = tra_timeseq[1] - tra_timeseq[0]\n",
    "time_seq = tra_timeseq[time_seq_idx]\n",
    "time_seq"
   ]
  },
  {
   "cell_type": "code",
   "execution_count": 42,
   "metadata": {},
   "outputs": [
    {
     "data": {
      "text/plain": [
       "Text(0.5, 1.0, 'Window length:  11.45 s')"
      ]
     },
     "execution_count": 42,
     "metadata": {},
     "output_type": "execute_result"
    },
    {
     "data": {
      "image/png": "[encoded data removed]",
      "text/plain": [
       "<Figure size 640x480 with 1 Axes>"
      ]
     },
     "metadata": {},
     "output_type": "display_data"
    }
   ],
   "source": [
    "plt.plot(time_seq, ds1)\n",
    "plt.title(f\"Window length: {window_length * sample_interval: .2f} s\")"
   ]
  },
  {
   "cell_type": "code",
   "execution_count": 17,
   "metadata": {},
   "outputs": [
    {
     "data": {
      "text/plain": [
       "0        0.015344\n",
       "1        0.025302\n",
       "2        0.035260\n",
       "3        0.045218\n",
       "4        0.055176\n",
       "          ...    \n",
       "1145    11.417451\n",
       "1146    11.427409\n",
       "1147    11.437367\n",
       "1148    11.447325\n",
       "1149    11.457284\n",
       "Name: Time (s), Length: 1150, dtype: float64"
      ]
     },
     "execution_count": 17,
     "metadata": {},
     "output_type": "execute_result"
    }
   ],
   "source": [
    "api.get_template_data(0).time_seq"
   ]
  },
  {
   "cell_type": "code",
   "execution_count": 25,
   "metadata": {},
   "outputs": [
    {
     "name": "stdout",
     "output_type": "stream",
     "text": [
      "54.0 71.175\n"
     ]
    }
   ],
   "source": [
    "TEMPLATE_LEN = 11.45\n",
    "print(27 * (TEMPLATE_LEN // 4), 27 * (TEMPLATE_LEN // 4) + TEMPLATE_LEN * 1.5)"
   ]
  }
 ],
 "metadata": {
  "kernelspec": {
   "display_name": "signalprocessing",
   "language": "python",
   "name": "python3"
  },
  "language_info": {
   "codemirror_mode": {
    "name": "ipython",
    "version": 3
   },
   "file_extension": ".py",
   "mimetype": "text/x-python",
   "name": "python",
   "nbconvert_exporter": "python",
   "pygments_lexer": "ipython3",
   "version": "3.10.9"
  },
  "orig_nbformat": 4,
  "vscode": {
   "interpreter": {
    "hash": "428b2b756aebd54595ed83f9b3aa1ec96dfb6c03031fc20c00780263c17d0a72"
   }
  }
 },
 "nbformat": 4,
 "nbformat_minor": 2
}
